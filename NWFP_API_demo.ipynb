{
 "cells": [
  {
   "cell_type": "code",
   "execution_count": 1,
   "id": "a78f7772-68b8-4643-a0b1-b1fdf65a59fb",
   "metadata": {},
   "outputs": [
    {
     "name": "stdout",
     "output_type": "stream",
     "text": [
      "Requirement already satisfied: python-dotenv in d:\\program files\\python 311\\lib\\site-packages (1.0.1)\n",
      "Note: you may need to restart the kernel to use updated packages.\n"
     ]
    }
   ],
   "source": [
    "pip install python-dotenv"
   ]
  },
  {
   "cell_type": "code",
   "execution_count": null,
   "id": "c6283e0e-06dc-4676-ac1c-a6ba0541888b",
   "metadata": {},
   "outputs": [
    {
     "name": "stdout",
     "output_type": "stream",
     "text": [
      "http://picolo:8000\n"
     ]
    }
   ],
   "source": [
    "from dotenv import load_dotenv\n",
    "import requests\n",
    "import pprint\n",
    "import os\n",
    "\n",
    "load_dotenv()\n",
    "api_url = os.getenv(\"API_URL\")\n",
    "print(api_url)\n",
    "# Define the login URL\n",
    "login_url = api_url + \"/api/auth/v1/login/\"\n",
    "\n",
    "# Define the payload with your email and password\n",
    "payload = {\n",
    "    \"email\": os.getenv(\"API_EMAIL\"),\n",
    "    \"password\": os.getenv(\"API_PASSWORD\")\n",
    "}\n",
    "\n",
    "# Make the POST request to the login endpoint\n",
    "response = requests.post(login_url, json=payload)\n",
    "token = \"\"\n",
    "headers = None\n",
    "# Check if the request was successful\n",
    "if response.status_code == 200:\n",
    "    # Parse the JSON response\n",
    "    response_data = response.json()\n",
    "    print(\"Login successful!\")\n",
    "    print(\"Response data:\")\n",
    "    pprint.pp(response_data)\n",
    "    token = response_data.get(\"access\")\n",
    "    headers = {\"Authorization\": f\"Bearer {token}\"}\n",
    "else:\n",
    "    print(\"Login failed!\")\n",
    "    print(\"Status code:\", response.status_code)\n",
    "    print(\"Response:\", response.text)\n",
    "    "
   ]
  },
  {
   "cell_type": "markdown",
   "id": "b8f869df-c544-4f61-aa87-3dbde969a3a2",
   "metadata": {},
   "source": [
    "# Test for querying all catchments"
   ]
  },
  {
   "cell_type": "code",
   "execution_count": null,
   "id": "81c6bff6-9496-4928-a912-6b8f8857b376",
   "metadata": {},
   "outputs": [],
   "source": [
    "protected_response = requests.get(api_url + \"/api/catchments/v1/getCatchments/\", headers=headers)\n",
    "json_data = None\n",
    "if protected_response.status_code == 200:\n",
    "    print(\"Accessed protected endpoint successfully!\")\n",
    "    json_data = protected_response.json()\n",
    "    #print(\"Response data:\", json_data)   \n",
    "else:\n",
    "    print(\"Failed to access protected endpoint.\")\n",
    "    print(\"Status code:\", protected_response.status_code)\n",
    "    #print(\"Response:\", protected_response.text)"
   ]
  },
  {
   "cell_type": "code",
   "execution_count": null,
   "id": "cee01c07-085c-4c40-835f-a9e5bde7f4e9",
   "metadata": {},
   "outputs": [],
   "source": [
    "import pandas as pd\n",
    "catchments = json_data['results']\n",
    "\n",
    "# Convert the results to a DataFrame\n",
    "df_catchments = pd.DataFrame(catchments)\n",
    "print(df_catchments)"
   ]
  },
  {
   "cell_type": "markdown",
   "id": "74030e84-66ab-4b1f-adba-ac80d7f4d740",
   "metadata": {},
   "source": [
    "# Example fetching measurement data from one catchment\n",
    "\n",
    "This example demonstrates a simple query to extract date filtered data for one catchment. "
   ]
  },
  {
   "cell_type": "code",
   "execution_count": null,
   "id": "a3f5d87a-239d-4bb3-ba2b-2de37c944c3c",
   "metadata": {},
   "outputs": [],
   "source": [
    "protected_url = api_url + \"/api/measurements/v2/getMeasurementsByTypeID/?Catchments=Catchment%201&from_date=2018-05-01&to_date=2018-06-31\"\n",
    "\n",
    "protected_response = requests.get(protected_url, headers=headers)\n",
    "json_data = None\n",
    "if protected_response.status_code == 200:\n",
    "    print(\"Accessed protected endpoint successfully!\")\n",
    "    json_data = protected_response.json()\n",
    "    #print(\"Response data:\", json_data)   \n",
    "else:\n",
    "    print(\"Failed to access protected endpoint.\")\n",
    "    print(\"Status code:\", protected_response.status_code)\n",
    "    #print(\"Response:\", protected_response.text)"
   ]
  },
  {
   "cell_type": "markdown",
   "id": "4e754c89-1fd9-4ef6-a038-96d2857e2e52",
   "metadata": {},
   "source": [
    "Review the root object keys from the returned JSON to see what we are dealing with"
   ]
  },
  {
   "cell_type": "code",
   "execution_count": null,
   "id": "d4fb8f4c-2283-4f48-84cb-d1b1f7c71441",
   "metadata": {},
   "outputs": [],
   "source": [
    "for key,value in json_data.items():\n",
    "    print(f\"{key}: {str(value)[:150]}\") # just show the first 150 characters"
   ]
  },
  {
   "cell_type": "markdown",
   "id": "6c20d6e4-65a6-424f-9914-d3a9e60f19d6",
   "metadata": {},
   "source": [
    "We can see we see the results returns:\n",
    "- *count*: a count of the number of records\n",
    "- *next*: a URL for the next page (if there is one)\n",
    "- *previous*: a URL for the previous page (if there is one)\n",
    "- *results*: the NWFP data.\n",
    "\n",
    "To use this dataset we need to pull down all the pages. We cannot modify the page length."
   ]
  },
  {
   "cell_type": "markdown",
   "id": "42424ead-f2ef-4744-a38b-7b8f646ed80b",
   "metadata": {},
   "source": [
    "# Processing page data to create a master dataset\n",
    "\n",
    "1. set up an object to store all the accumlated response data"
   ]
  },
  {
   "cell_type": "code",
   "execution_count": null,
   "id": "5181664c-ccb1-4b00-8e7b-321b74e61420",
   "metadata": {},
   "outputs": [],
   "source": [
    "all_data = []\n",
    "all_data.extend(json_data['results']['catchments'])  # Extract catchments data from the first call"
   ]
  },
  {
   "cell_type": "markdown",
   "id": "be888532-0c06-4b41-ab19-68c3335d1b33",
   "metadata": {},
   "source": [
    "2. While thre is a next URL loop and query the API to get the next set of data then append to the all_data array"
   ]
  },
  {
   "cell_type": "code",
   "execution_count": null,
   "id": "8ac1d358-948b-41eb-ba4c-23affb64e366",
   "metadata": {},
   "outputs": [],
   "source": [
    "next_url = json_data[\"next\"]\n",
    "while next_url:\n",
    "    response = requests.get(next_url, headers=headers)\n",
    "    if response.status_code == 200:\n",
    "        data = response.json()\n",
    "        all_data.extend(data['results']['catchments'])  # Extract catchments data\n",
    "        next_url = data.get('next')  # Update the URL to the next page\n",
    "        print(next_url)\n",
    "    else:\n",
    "        print(f\"Failed to fetch data from {url}\")\n",
    "        break\n",
    "print(len(all_data))"
   ]
  },
  {
   "cell_type": "markdown",
   "id": "0119d345-9ae0-44d0-8617-ddd120560d93",
   "metadata": {},
   "source": [
    "Having retrieved all the data we need to reshape into a more usable dataframe format. "
   ]
  },
  {
   "cell_type": "code",
   "execution_count": null,
   "id": "40addaa9-dfc1-4473-8980-037156fd13d6",
   "metadata": {},
   "outputs": [],
   "source": [
    "# Flatten the nested structure and extract required fields\n",
    "\n",
    "data_list = []\n",
    "#pprint.pp(all_data)\n",
    "\n",
    "for catchment in all_data:\n",
    "    for location in catchment['locations']:\n",
    "        for type_info in location['types']:\n",
    "            for value in type_info['values']:\n",
    "                data_list.append({\n",
    "                    #'catchment_id': catchment['id'],\n",
    "                    #'location_id': location['id'],\n",
    "                    'type': type_info['type'],\n",
    "                    'date': value['date'],\n",
    "                    'LocationX': value['LocationX'],\n",
    "                    'LocationY': value['LocationY'],\n",
    "                    'value': value['value']\n",
    "                })\n",
    "\n",
    "# Convert the flattened data to a DataFrame\n",
    "df = pd.DataFrame(data_list)\n",
    "\n",
    "# Pivot the DataFrame\n",
    "pivot_df = df.pivot_table(index=['date', 'LocationX', 'LocationY'], columns='type', values='value').reset_index()\n",
    "\n",
    "# Flatten the column hierarchy\n",
    "pivot_df.columns.name = None\n",
    "\n",
    "print(pivot_df)"
   ]
  },
  {
   "cell_type": "markdown",
   "id": "56b7a62c-9ae5-4116-b5dd-db98f98d7be2",
   "metadata": {},
   "source": [
    "Now plot the data"
   ]
  },
  {
   "cell_type": "code",
   "execution_count": null,
   "id": "a0f928bc-3c4d-45a9-b915-7962dd2c2c1f",
   "metadata": {},
   "outputs": [],
   "source": [
    "pip install matplotlib"
   ]
  },
  {
   "cell_type": "code",
   "execution_count": null,
   "id": "3d367769-e6b8-4aed-ba9d-ea8b3a5f6e32",
   "metadata": {},
   "outputs": [],
   "source": [
    "import matplotlib.pyplot as plt\n",
    "# Plot the data\n",
    "plt.figure(figsize=(14, 7))\n",
    "\n",
    "# Plot precipitation\n",
    "plt.plot(pivot_df['date'], pivot_df['precipitation'], label='Precipitation', color='blue')\n",
    "\n",
    "# Plot soil moisture\n",
    "plt.plot(pivot_df['date'], pivot_df['soil moisture @ 10cm depth'], label='Soil Moisture @ 10cm Depth', color='green')\n",
    "\n",
    "# Add labels and title\n",
    "plt.xlabel('Date')\n",
    "plt.ylabel('Value')\n",
    "plt.title('Precipitation and Soil Moisture Over Time')\n",
    "plt.legend()\n",
    "\n",
    "# Rotate x-axis labels for better readability\n",
    "plt.xticks(rotation=45)\n",
    "\n",
    "# Show the plot\n",
    "plt.tight_layout()\n",
    "plt.show()"
   ]
  },
  {
   "cell_type": "code",
   "execution_count": null,
   "id": "d7b56778-f75b-480b-946b-6bd6b58e90f9",
   "metadata": {},
   "outputs": [],
   "source": []
  }
 ],
 "metadata": {
  "kernelspec": {
   "display_name": "Python 3 (ipykernel)",
   "language": "python",
   "name": "python3"
  },
  "language_info": {
   "codemirror_mode": {
    "name": "ipython",
    "version": 3
   },
   "file_extension": ".py",
   "mimetype": "text/x-python",
   "name": "python",
   "nbconvert_exporter": "python",
   "pygments_lexer": "ipython3",
   "version": "3.11.2"
  }
 },
 "nbformat": 4,
 "nbformat_minor": 5
}
